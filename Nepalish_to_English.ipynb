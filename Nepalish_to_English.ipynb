{
  "cells": [
    {
      "cell_type": "code",
      "execution_count": null,
      "metadata": {
        "id": "Z7DuKOIHFYtu",
        "outputId": "8a85a221-dce1-410a-d216-ec4e58a3567c",
        "colab": {
          "base_uri": "https://localhost:8080/"
        }
      },
      "outputs": [
        {
          "output_type": "stream",
          "name": "stdout",
          "text": [
            "Requirement already satisfied: googletrans==4.0.0-rc1 in /usr/local/lib/python3.10/dist-packages (4.0.0rc1)\n",
            "Requirement already satisfied: httpx==0.13.3 in /usr/local/lib/python3.10/dist-packages (from googletrans==4.0.0-rc1) (0.13.3)\n",
            "Requirement already satisfied: certifi in /usr/local/lib/python3.10/dist-packages (from httpx==0.13.3->googletrans==4.0.0-rc1) (2023.11.17)\n",
            "Requirement already satisfied: hstspreload in /usr/local/lib/python3.10/dist-packages (from httpx==0.13.3->googletrans==4.0.0-rc1) (2023.1.1)\n",
            "Requirement already satisfied: sniffio in /usr/local/lib/python3.10/dist-packages (from httpx==0.13.3->googletrans==4.0.0-rc1) (1.3.0)\n",
            "Requirement already satisfied: chardet==3.* in /usr/local/lib/python3.10/dist-packages (from httpx==0.13.3->googletrans==4.0.0-rc1) (3.0.4)\n",
            "Requirement already satisfied: idna==2.* in /usr/local/lib/python3.10/dist-packages (from httpx==0.13.3->googletrans==4.0.0-rc1) (2.10)\n",
            "Requirement already satisfied: rfc3986<2,>=1.3 in /usr/local/lib/python3.10/dist-packages (from httpx==0.13.3->googletrans==4.0.0-rc1) (1.5.0)\n",
            "Requirement already satisfied: httpcore==0.9.* in /usr/local/lib/python3.10/dist-packages (from httpx==0.13.3->googletrans==4.0.0-rc1) (0.9.1)\n",
            "Requirement already satisfied: h11<0.10,>=0.8 in /usr/local/lib/python3.10/dist-packages (from httpcore==0.9.*->httpx==0.13.3->googletrans==4.0.0-rc1) (0.9.0)\n",
            "Requirement already satisfied: h2==3.* in /usr/local/lib/python3.10/dist-packages (from httpcore==0.9.*->httpx==0.13.3->googletrans==4.0.0-rc1) (3.2.0)\n",
            "Requirement already satisfied: hyperframe<6,>=5.2.0 in /usr/local/lib/python3.10/dist-packages (from h2==3.*->httpcore==0.9.*->httpx==0.13.3->googletrans==4.0.0-rc1) (5.2.0)\n",
            "Requirement already satisfied: hpack<4,>=3.0 in /usr/local/lib/python3.10/dist-packages (from h2==3.*->httpcore==0.9.*->httpx==0.13.3->googletrans==4.0.0-rc1) (3.0.0)\n",
            "Collecting gtts\n",
            "  Downloading gTTS-2.4.0-py3-none-any.whl (29 kB)\n",
            "Requirement already satisfied: requests<3,>=2.27 in /usr/local/lib/python3.10/dist-packages (from gtts) (2.31.0)\n",
            "Requirement already satisfied: click<8.2,>=7.1 in /usr/local/lib/python3.10/dist-packages (from gtts) (8.1.7)\n",
            "Requirement already satisfied: charset-normalizer<4,>=2 in /usr/local/lib/python3.10/dist-packages (from requests<3,>=2.27->gtts) (3.3.2)\n",
            "Requirement already satisfied: idna<4,>=2.5 in /usr/local/lib/python3.10/dist-packages (from requests<3,>=2.27->gtts) (2.10)\n",
            "Requirement already satisfied: urllib3<3,>=1.21.1 in /usr/local/lib/python3.10/dist-packages (from requests<3,>=2.27->gtts) (2.0.7)\n",
            "Requirement already satisfied: certifi>=2017.4.17 in /usr/local/lib/python3.10/dist-packages (from requests<3,>=2.27->gtts) (2023.11.17)\n",
            "Installing collected packages: gtts\n",
            "Successfully installed gtts-2.4.0\n"
          ]
        }
      ],
      "source": [
        "!pip install googletrans==4.0.0-rc1\n",
        "!pip install gtts\n",
        "!pip install SpeechRecognition"
      ]
    },
    {
      "cell_type": "code",
      "source": [
        "import speech_recognition as sr\n",
        "\n",
        "from googletrans import Translator\n",
        "\n",
        "def nepalish_audio_to_text(audio_file_path):\n",
        "    # Initialize the recognizer\n",
        "    r = sr.Recognizer()\n",
        "\n",
        "    with sr.AudioFile(audio_file_path) as source:\n",
        "        #  reading audio file\n",
        "        audio_data = r.record(source)\n",
        "\n",
        "        # Try recognizing the speech in the audio\n",
        "        try:\n",
        "            text = r.recognize_google(audio_data, language='ne-NP')\n",
        "            return text\n",
        "        except sr.UnknownValueError:\n",
        "            # Speech was unintelligible\n",
        "            return \"Could not understand the audio\"\n",
        "        except sr.RequestError:\n",
        "            # Could not request results from Google's service\n",
        "            return \"Failed to get results\"\n",
        "\n",
        "# Replace '/content/Nepalish.wav' with your actual file path\n",
        "\n",
        "audio_path = '/content/Nepalish.wav'\n",
        "text_from_audio = nepalish_audio_to_text(audio_path)\n",
        "\n",
        "nepalish_text = text_from_audio\n",
        "\n",
        "\n",
        "\n",
        "def translate_nepalish_to_english(text):\n",
        "    translator = Translator()\n",
        "    words = text.split()\n",
        "    translated_words = []\n",
        "\n",
        "    for word in words:\n",
        "        if translator.detect(word).lang != 'en':\n",
        "            word = translator.translate(word, src='ne', dest='en').text\n",
        "        translated_words.append(word)\n",
        "\n",
        "    return ' '.join(translated_words)\n",
        "\n",
        "english_text = translate_nepalish_to_english(nepalish_text)\n",
        "\n",
        "#Testing\n",
        "\n",
        "print(\"Nepalish Audio to Nepalish Text : \", nepalish_text)\n",
        "\n",
        "print(\"Translating Nepalish Text to English Text : \", english_text)\n"
      ],
      "metadata": {
        "id": "I_X0PjmlbWzt",
        "outputId": "f7afa65b-7a73-430b-e5e1-651e8f1b690d",
        "colab": {
          "base_uri": "https://localhost:8080/"
        }
      },
      "execution_count": null,
      "outputs": [
        {
          "output_type": "stream",
          "name": "stdout",
          "text": [
            "Nepalish Audio to Nepalish Text :  तपाईँलाई कस्तो छ हेलो\n",
            "Translating Nepalish Text to English Text :  To you What Is Hello\n"
          ]
        }
      ]
    },
    {
      "cell_type": "code",
      "source": [
        "from gtts import gTTS\n",
        "import os\n",
        "\n",
        "# Now converting the English text to English Audio\n",
        "# Before Running this file please create a output.mp3 file in your file directory and give the location to that file\n",
        "\n",
        "def text_to_speech(text, language='en'):\n",
        "    tts = gTTS(text=text, lang=language)\n",
        "    tts.save(\"output.mp3\")\n",
        "\n",
        "# Use the translated text\n",
        "text_to_speech(english_text)"
      ],
      "metadata": {
        "id": "hYiAqdvzamRe"
      },
      "execution_count": null,
      "outputs": []
    }
  ],
  "metadata": {
    "accelerator": "GPU",
    "colab": {
      "provenance": []
    },
    "gpuClass": "standard",
    "kernelspec": {
      "display_name": "Python 3",
      "name": "python3"
    },
    "language_info": {
      "name": "python"
    }
  },
  "nbformat": 4,
  "nbformat_minor": 0
}